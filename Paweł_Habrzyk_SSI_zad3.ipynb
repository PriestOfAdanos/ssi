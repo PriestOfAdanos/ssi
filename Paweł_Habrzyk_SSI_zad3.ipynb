{
 "cells": [
  {
   "cell_type": "code",
   "execution_count": 9,
   "metadata": {},
   "outputs": [],
   "source": [
    "class SoftSet:\n",
    "    @staticmethod\n",
    "    def simplify(sample, x, y):\n",
    "        #obliczenie składowych\n",
    "        \n",
    "        values = [0]*len(x)\n",
    "        \n",
    "        for vegetable_id in range(len(x)):\n",
    "            sumV = 0\n",
    "            for vegetable_parameter in list(sample.keys()):\n",
    "                sumV += y[vegetable_id][vegetable_parameter]*sample[vegetable_parameter]\n",
    "            values[vegetable_id]=sumV\n",
    "            \n",
    "        #znalezienie max\n",
    "        \n",
    "        maxV = max(values)\n",
    "        \n",
    "        #zwrócenie max\n",
    "        \n",
    "        vegetables = []\n",
    "        \n",
    "        for i in range(len(values)):\n",
    "            if values[i]==maxV:\n",
    "                vegetables.append(x[i])\n",
    "        \n",
    "        return vegetables"
   ]
  },
  {
   "cell_type": "code",
   "execution_count": 10,
   "metadata": {},
   "outputs": [],
   "source": [
    "#tablica zbiorów miękkich\n",
    "x = ['paprica','tomato','onion','spinach','potato','eggplant']\n",
    "y = []\n",
    "\n",
    "for i in range(len(x)):\n",
    "    y.append({'fresh':0,'frozen':0,'spicy':0,'sweet':0,'green':0,'red':0,'local':0,'exotic':0,'leafy':0,'bulbous':0})\n",
    "    \n",
    "#paprica\n",
    "y[0]['fresh']=1\n",
    "y[0]['spicy']=1\n",
    "y[0]['sweet']=1\n",
    "y[0]['green']=1\n",
    "y[0]['red']=1\n",
    "y[0]['local']=1\n",
    "\n",
    "#tomato\n",
    "y[1]['fresh']=1\n",
    "y[1]['sweet']=1\n",
    "y[1]['red']=1\n",
    "y[1]['local']=1\n",
    "\n",
    "#onion\n",
    "y[2]['fresh']=1\n",
    "y[2]['spicy']=1\n",
    "y[2]['sweet']=1\n",
    "y[2]['red']=1\n",
    "y[2]['local']=1\n",
    "\n",
    "#spinach\n",
    "y[3]['fresh']=1\n",
    "y[3]['frozen']=1\n",
    "y[3]['green']=1\n",
    "y[3]['local']=1\n",
    "y[3]['leafy']=1\n",
    "\n",
    "#potato\n",
    "y[4]['fresh']=1\n",
    "y[4]['sweet']=1\n",
    "y[4]['local']=1\n",
    "y[4]['exotic']=1\n",
    "y[4]['bulbous']=1\n",
    "\n",
    "#eggplant\n",
    "y[5]['fresh']=1\n",
    "y[5]['sweet']=1\n",
    "y[5]['exotic']=1"
   ]
  },
  {
   "cell_type": "code",
   "execution_count": 11,
   "metadata": {},
   "outputs": [],
   "source": [
    "#próbki\n",
    "A = {'fresh':1,'spicy':1,'red':1}\n",
    "B = {'frozen':1,'green':1,'sweet':0.5,'leafy':0.5}\n",
    "C = {'fresh':1,'green':0.5,'red':0.5,'sweet':1}"
   ]
  },
  {
   "cell_type": "code",
   "execution_count": 12,
   "metadata": {},
   "outputs": [],
   "source": [
    "vegA = SoftSet.simplify(A,x,y)\n",
    "vegB = SoftSet.simplify(B,x,y)\n",
    "vegC = SoftSet.simplify(C,x,y)"
   ]
  },
  {
   "cell_type": "code",
   "execution_count": 13,
   "metadata": {},
   "outputs": [
    {
     "name": "stdout",
     "output_type": "stream",
     "text": [
      "['paprica', 'onion']\n"
     ]
    }
   ],
   "source": [
    "print(vegA)"
   ]
  },
  {
   "cell_type": "code",
   "execution_count": 14,
   "metadata": {},
   "outputs": [
    {
     "name": "stdout",
     "output_type": "stream",
     "text": [
      "['spinach']\n"
     ]
    }
   ],
   "source": [
    "print(vegB)"
   ]
  },
  {
   "cell_type": "code",
   "execution_count": 15,
   "metadata": {},
   "outputs": [
    {
     "name": "stdout",
     "output_type": "stream",
     "text": [
      "['paprica']\n"
     ]
    }
   ],
   "source": [
    "print(vegC)"
   ]
  },
  {
   "cell_type": "code",
   "execution_count": 16,
   "metadata": {},
   "outputs": [],
   "source": [
    "#iris"
   ]
  },
  {
   "cell_type": "code",
   "execution_count": 9,
   "metadata": {},
   "outputs": [],
   "source": [
    "import numpy as np\n",
    "import pandas as pd # csv files\n",
    "import random\n",
    "\n",
    "iris=pd.read_csv('Iris.csv')"
   ]
  },
  {
   "cell_type": "code",
   "execution_count": 10,
   "metadata": {},
   "outputs": [],
   "source": [
    "irisX = ['Setosa', 'Versicolor', 'Virginica']\n",
    "irisY = []\n",
    "\n",
    "lowSL = (max(iris['sepal.length'])-min(iris['sepal.length']))/3 +min(iris['sepal.length'])\n",
    "higSL = 2*(max(iris['sepal.length'])-min(iris['sepal.length']))/3 +min(iris['sepal.length'])\n",
    "\n",
    "lowSW = (max(iris['sepal.width'])-min(iris['sepal.width']))/3 +min(iris['sepal.width'])\n",
    "higSW = 2*(max(iris['sepal.width'])-min(iris['sepal.width']))/3 +min(iris['sepal.width'])\n",
    "\n",
    "lowPL = (max(iris['petal.length'])-min(iris['petal.length']))/3 +min(iris['petal.length'])\n",
    "higPL = 2*(max(iris['petal.length'])-min(iris['petal.length']))/3 +min(iris['petal.length'])\n",
    "\n",
    "lowPW = (max(iris['petal.width'])-min(iris['petal.width']))/3 +min(iris['petal.width'])\n",
    "higPW = 2*(max(iris['petal.width'])-min(iris['petal.width']))/3 +min(iris['petal.width'])\n",
    "\n",
    "for i in range(len(irisX)):\n",
    "    irisY.append({'shortSepal':0,'avgSepal':0,'longSepal':0,'thinSepal':0,'mediumSepal':0,'thickSepal':0, 'shortPetal':0,'avgPetal':0,'longPetal':0,'thinPetal':0,'mediumPetal':0,'thickPetal':0})\n",
    "    \n",
    "    data = np.where(iris.variety == irisX[i])\n",
    "    sumSL = 0\n",
    "    sumSW = 0\n",
    "    sumPL = 0\n",
    "    sumPW = 0\n",
    "    for v in data[0]:         sumSL = iris.iloc[v]['sepal.length']\n",
    "        sumSW = iris.iloc[v]['sepal.width']\n",
    "        sumPL = iris.iloc[v]['petal.length']\n",
    "        sumPW = iris.iloc[v]['petal.width']\n",
    "    \n",
    "        if(sumSL<=lowSL):\n",
    "            irisY[i]['shortSepal']=1\n",
    "        elif(sumSL>=higSL):\n",
    "            irisY[i]['longSepal']=1\n",
    "        else:\n",
    "            irisY[i]['avgSepal']=1\n",
    "\n",
    "        if(sumSW<=lowSW):\n",
    "            irisY[i]['thinSepal']=1\n",
    "        elif(sumSW>=higSW):\n",
    "            irisY[i]['thickSepal']=1\n",
    "        else:\n",
    "            irisY[i]['mediumSepal']=1 \n",
    "\n",
    "        if(sumPL<=lowPL):\n",
    "            irisY[i]['shortPetal']=1\n",
    "        elif(sumPL>=higPL):\n",
    "            irisY[i]['longPetal']=1\n",
    "        else:\n",
    "            irisY[i]['avgPetal']=1  \n",
    "\n",
    "        if(sumPW<=lowPW):\n",
    "            irisY[i]['thinPetal']=1\n",
    "        elif(sumPW>=higPW):\n",
    "            irisY[i]['thickPetal']=1\n",
    "        else:\n",
    "            irisY[i]['mediumPetal']=1\n"
   ]
  },
  {
   "cell_type": "code",
   "execution_count": 11,
   "metadata": {},
   "outputs": [
    {
     "name": "stdout",
     "output_type": "stream",
     "text": [
      "[{'shortSepal': 1, 'avgSepal': 1, 'longSepal': 0, 'thinSepal': 1, 'mediumSepal': 1, 'thickSepal': 1, 'shortPetal': 1, 'avgPetal': 0, 'longPetal': 0, 'thinPetal': 1, 'mediumPetal': 0, 'thickPetal': 0}, {'shortSepal': 1, 'avgSepal': 1, 'longSepal': 1, 'thinSepal': 1, 'mediumSepal': 1, 'thickSepal': 0, 'shortPetal': 0, 'avgPetal': 1, 'longPetal': 1, 'thinPetal': 0, 'mediumPetal': 1, 'thickPetal': 1}, {'shortSepal': 1, 'avgSepal': 1, 'longSepal': 1, 'thinSepal': 1, 'mediumSepal': 1, 'thickSepal': 1, 'shortPetal': 0, 'avgPetal': 1, 'longPetal': 1, 'thinPetal': 0, 'mediumPetal': 1, 'thickPetal': 1}]\n"
     ]
    }
   ],
   "source": [
    "print(irisY)"
   ]
  },
  {
   "cell_type": "code",
   "execution_count": 12,
   "metadata": {},
   "outputs": [
    {
     "name": "stdout",
     "output_type": "stream",
     "text": [
      "accuracy for iris (good answear in return):  67.33333333333333 %\n",
      "accuracy for iris (only good answear in return):  34.666666666666664 %\n",
      "accuracy for setosa (good answear in return):  100.0 %\n",
      "accuracy for setosa (only good answear in return):  100.0 %\n",
      "accuracy for versicolor (good answear in return):  100.0 %\n",
      "accuracy for versicolor (only good answear in return):  0.0 %\n",
      "accuracy for virginica (good answear in return):  100.0 %\n",
      "accuracy for virginica (only good answear in return):  4.0 %\n"
     ]
    }
   ],
   "source": [
    "#iris accuracy\n",
    "checked=0\n",
    "ones = 0\n",
    "irisGood={'Setosa':0,'Versicolor':0,'Virginica':0}\n",
    "irisOnes={'Setosa':0,'Versicolor':0,'Virginica':0}\n",
    "\n",
    "for v in range(len(iris)): \n",
    "    sample = {}\n",
    "    sumSL = iris.iloc[v]['sepal.length']\n",
    "    sumSW = iris.iloc[v]['sepal.width']\n",
    "    sumPL = iris.iloc[v]['petal.length']\n",
    "    sumPW = iris.iloc[v]['petal.width']\n",
    "    right = iris.iloc[v].variety\n",
    "    \n",
    "    if(sumSL<=lowSL):\n",
    "        sample.update({'shortSepal':1})\n",
    "    elif(sumSL>=higSL):\n",
    "        sample.update({'longSepal':1})\n",
    "    else:\n",
    "        sample.update({'avgSepal':1})\n",
    "    if(sumSW<=lowSW):\n",
    "        sample.update({'thinSepal':1})\n",
    "    elif(sumSW>=higSW):\n",
    "        sample.update({'thickSepal':1})\n",
    "    else:\n",
    "        sample.update({'mediumSepal':1})\n",
    "\n",
    "    if(sumPL<=lowPL):\n",
    "        sample.update({'shortPetal':1})\n",
    "    elif(sumPL>=higPL):\n",
    "        sample.update({'longPetal':1})\n",
    "    else:\n",
    "        sample.update({'avgPetal':1})\n",
    "    if(sumPW<=lowPW):\n",
    "        sample.update({'thinPetal':1})\n",
    "    elif(sumPW>=higPW):\n",
    "        sample.update({'thickPetal':1})\n",
    "    else:\n",
    "        sample.update({'mediumPetal':1})\n",
    "        \n",
    "    answear = SoftSet.simplify(sample,irisX,irisY)\n",
    "    \n",
    "    if right in answear:\n",
    "        checked += (1/len(answear))\n",
    "        if len(answear)==1:\n",
    "            ones += 1\n",
    "    \n",
    "    irisGood[right] += 1\n",
    "    if len(answear)==1:\n",
    "        irisOnes[right] += 1\n",
    "    #print(right,' - ',answear)\n",
    "    \n",
    "    \n",
    "    \n",
    "print('accuracy for iris (good answear in return): ',(checked*100/len(iris)),'%')\n",
    "print('accuracy for iris (only good answear in return): ',(ones*100/len(iris)),'%')\n",
    "print('accuracy for setosa (good answear in return): ',(irisGood['Setosa']*100/len(np.where(iris.variety == 'Setosa')[0])),'%')\n",
    "print('accuracy for setosa (only good answear in return): ',(irisOnes['Setosa']*100/len(np.where(iris.variety == 'Setosa')[0])),'%')\n",
    "print('accuracy for versicolor (good answear in return): ',(irisGood['Versicolor']*100/len(np.where(iris.variety == 'Versicolor')[0])),'%')\n",
    "print('accuracy for versicolor (only good answear in return): ',(irisOnes['Versicolor']*100/len(np.where(iris.variety == 'Versicolor')[0])),'%')\n",
    "print('accuracy for virginica (good answear in return): ',(irisGood['Virginica']*100/len(np.where(iris.variety == 'Virginica')[0])),'%')\n",
    "print('accuracy for virginica (only good answear in return): ',(irisOnes['Virginica']*100/len(np.where(iris.variety == 'Virginica')[0])),'%')"
   ]
  }
 ],
 "metadata": {
  "kernelspec": {
   "display_name": "Python 3",
   "language": "python",
   "name": "python3"
  },
  "language_info": {
   "codemirror_mode": {
    "name": "ipython",
    "version": 3
   },
   "file_extension": ".py",
   "mimetype": "text/x-python",
   "name": "python",
   "nbconvert_exporter": "python",
   "pygments_lexer": "ipython3",
   "version": "3.8.10"
  }
 },
 "nbformat": 4,
 "nbformat_minor": 4
}
