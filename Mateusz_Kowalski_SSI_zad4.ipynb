{
 "cells": [
  {
   "cell_type": "code",
   "execution_count": 4,
   "metadata": {},
   "outputs": [],
   "source": [
    "import numpy as np\n",
    "import pandas as pd # csv files\n",
    "import random\n",
    "\n",
    "iris=pd.read_csv('Iris.csv')"
   ]
  },
  {
   "cell_type": "code",
   "execution_count": 8,
   "metadata": {},
   "outputs": [],
   "source": [
    "class NaiveBayes:\n",
    "    #obliczanie średniej\n",
    "    @staticmethod\n",
    "    def mean(atr):\n",
    "        return (sum(atr)/len(atr))\n",
    "        \n",
    "    #odchylenie standardowe\n",
    "    @staticmethod\n",
    "    def std(atr,mean): \n",
    "        sumVal = 0 \n",
    "        for i in atr:\n",
    "            sumVal+=((i-mean)**2)\n",
    "        \n",
    "        return np.sqrt(sumVal/len(atr))\n",
    "        \n",
    "    #funkcja gaussa\n",
    "    @staticmethod\n",
    "    def gauss(x,mean,std):\n",
    "        # x - jedna z wartości sample [a,b,c,d]\n",
    "        exponent = np.exp(-(x-mean)**2/(2*std**2))\n",
    "            \n",
    "        return (1/(np.sqrt(2*np.pi*std**2))*exponent)\n",
    "        \n",
    "    def classify(x, sample, types):\n",
    "        \n",
    "        #separacja klas z x\n",
    "        #schamet data: data[variety][property][value]\n",
    "        values = iris.select_dtypes(exclude=\"object\")\n",
    "        indexes = values.columns.tolist()\n",
    "\n",
    "        data = []\n",
    "        means = []\n",
    "        stds = []\n",
    "        for i in range(len(types)):\n",
    "            data.append([])\n",
    "            means.append([])\n",
    "            stds.append([])\n",
    "           \n",
    "        for i in types:\n",
    "            ind = types.index(i)\n",
    "            tmp = np.where(x.variety == i)\n",
    "            for v in indexes:\n",
    "                dex = indexes.index(v)\n",
    "                data[ind].append([])\n",
    "                means[ind].append([])\n",
    "                stds[ind].append([])\n",
    "                for j in tmp[0]:\n",
    "                    data[ind][dex].append(x.iloc[j][v])\n",
    "                #obliczenie średniej i odchylenia dla każdego atrybutu dla każdej klasy\n",
    "                means[ind][dex]=NaiveBayes.mean(data[ind][dex])\n",
    "                stds[ind][dex]=NaiveBayes.std(data[ind][dex],means[ind][dex])\n",
    "        #obliczenie prawdopodobieństw wystąpienia każdego atrybutu dla każdej klasy - gauss\n",
    "        finales = [1]*len(types)\n",
    "        for i in range(len(types)):\n",
    "            for j in range(len(indexes)):\n",
    "                finales[i]*= NaiveBayes.gauss(sample[j],means[i][j],stds[i][j])\n",
    "        \n",
    "        #zwrócenie klasy z max prawdopodobieństwem\n",
    "        return types[finales.index(max(finales))]"
   ]
  },
  {
   "cell_type": "code",
   "execution_count": 6,
   "metadata": {},
   "outputs": [],
   "source": [
    "class ProcessingData:\n",
    "    @staticmethod\n",
    "    def stiffle(x):\n",
    "        for i in range(len(x)-1,0,-1):\n",
    "            tmp = random.randint(0,i)\n",
    "            x.iloc[i], x.iloc[tmp] = x.iloc[tmp], x.iloc[i]\n",
    "        return x\n",
    "    \n",
    "    @staticmethod\n",
    "    def normalize(X):\n",
    "        x=X.copy()\n",
    "        values = x.select_dtypes(exclude=\"object\")\n",
    "        indexes = values.columns.tolist()\n",
    "        \n",
    "        for i in indexes:\n",
    "            xmax = max(x[i])\n",
    "            xmin = min(x[i])\n",
    "            mnx = xmax - xmin\n",
    "            for v in range(len(x[i])):\n",
    "                x.at[v,i] = (x.at[v,i]-xmin)/mnx\n",
    "        return x    \n",
    "        \n",
    "    @staticmethod\n",
    "    def split(x,a):\n",
    "        n = len(x)\n",
    "        tabA=x[0:int(a*n)]\n",
    "        tabB=x[int(a*n):n]\n",
    "        return tabA, tabB"
   ]
  },
  {
   "cell_type": "code",
   "execution_count": 7,
   "metadata": {},
   "outputs": [
    {
     "name": "stdout",
     "output_type": "stream",
     "text": [
      "accuracy =  93.33333333333333 %\n"
     ]
    }
   ],
   "source": [
    "IrisMixed=ProcessingData.normalize(ProcessingData.stiffle(iris))\n",
    "irisTrain, irisVal = ProcessingData.split(IrisMixed,0.7)\n",
    "types = ['Setosa','Versicolor','Virginica']\n",
    "accuracy=0;\n",
    "for i in irisVal.iloc:\n",
    "    sample = [i['sepal.length'],i['sepal.width'],i['petal.length'],i['petal.width']] \n",
    "    answear = NaiveBayes.classify(irisTrain,sample,types)\n",
    "    #print(answear,'-',i.variety)\n",
    "    if(answear == i.variety):\n",
    "        accuracy+=1\n",
    "print('accuracy = ',(accuracy/len(irisVal)*100),'%')"
   ]
  },
  {
   "cell_type": "code",
   "execution_count": null,
   "metadata": {},
   "outputs": [],
   "source": []
  },
  {
   "cell_type": "code",
   "execution_count": null,
   "metadata": {},
   "outputs": [],
   "source": []
  },
  {
   "cell_type": "code",
   "execution_count": null,
   "metadata": {},
   "outputs": [],
   "source": []
  },
  {
   "cell_type": "code",
   "execution_count": null,
   "metadata": {},
   "outputs": [],
   "source": []
  }
 ],
 "metadata": {
  "kernelspec": {
   "display_name": "Python 3",
   "language": "python",
   "name": "python3"
  },
  "language_info": {
   "codemirror_mode": {
    "name": "ipython",
    "version": 3
   },
   "file_extension": ".py",
   "mimetype": "text/x-python",
   "name": "python",
   "nbconvert_exporter": "python",
   "pygments_lexer": "ipython3",
   "version": "3.8.10"
  }
 },
 "nbformat": 4,
 "nbformat_minor": 4
}
