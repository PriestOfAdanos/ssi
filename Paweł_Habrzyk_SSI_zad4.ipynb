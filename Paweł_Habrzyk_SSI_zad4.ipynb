{
 "cells": [
  {
   "cell_type": "code",
   "execution_count": 125,
   "metadata": {},
   "outputs": [],
   "source": [
    "import numpy as np\n",
    "import pandas as pd # csv files\n",
    "import random\n",
    "\n",
    "iris=pd.read_csv('iris.csv')"
   ]
  },
  {
   "cell_type": "code",
   "execution_count": 126,
   "metadata": {},
   "outputs": [],
   "source": [
    " def gauss(x,mean,std):\n",
    "    # x - jedna z wartości sample [a,b,c,d]\n",
    "    exponent = np.exp(-(x-mean)**2/(2*std**2))\n",
    "    return (1/(np.sqrt(2*np.pi*std**2))*exponent)"
   ]
  },
  {
   "cell_type": "code",
   "execution_count": 127,
   "metadata": {},
   "outputs": [],
   "source": [
    "def naive_bayess_clasifier(training_set, sample_to_classify, iris_species_list):\n",
    "    data = ProcessingData(training_set)\n",
    "    stds = data.std()\n",
    "    means = data.mean()\n",
    "    probabilities = {}\n",
    "    for name in iris_species_list:\n",
    "        probabilities[name]=1\n",
    "        for key in sample_to_classify.keys():\n",
    "            probabilities[name]*=(gauss(sample_to_classify[key],means[name][key],stds[name][key]))\n",
    "    guess = max(probabilities, key= lambda x: probabilities[x])\n",
    "    return guess"
   ]
  },
  {
   "cell_type": "code",
   "execution_count": 128,
   "metadata": {},
   "outputs": [],
   "source": [
    "class ProcessingData:\n",
    "    def __init__(self, flowers_table):\n",
    "        self.flowers_table = flowers_table\n",
    "\n",
    "    def stiffle(self):\n",
    "        x = self.flowers_table.copy()\n",
    "        for i in range(len(x)-1,0,-1):\n",
    "            tmp = random.randint(0,i)\n",
    "            x.iloc[i], x.iloc[tmp] = x.iloc[tmp], x.iloc[i]\n",
    "        return ProcessingData(x)\n",
    "    \n",
    "    def normalize(self):\n",
    "        flower_data = self.flowers_table.loc[:, self.flowers_table.columns!='variety']\n",
    "        iris_species = self.flowers_table.loc[:, self.flowers_table.columns=='variety']\n",
    "        normalized_df=(flower_data-flower_data.min())/(flower_data.max()-flower_data.min())\n",
    "        normalized_df['variety']=iris_species\n",
    "        return ProcessingData(normalized_df)    \n",
    "    \n",
    "    def mean(self):    \n",
    "        mean = pd.DataFrame()\n",
    "        for i, name in enumerate(self.flowers_table.variety.unique()):\n",
    "            mean[name] = self.flowers_table[self.flowers_table['variety'] == name].mean(axis=0)  \n",
    "        return mean\n",
    "    \n",
    "    def std(self): # można zastąpić p.std()\n",
    "        self.mean()\n",
    "        std = self.mean().copy()\n",
    "        for variety in self.flowers_table['variety'].unique():\n",
    "            for prop in ['sepal.length','sepal.width','petal.length','petal.width']:\n",
    "                std[variety][prop]=self.flowers_table[self.flowers_table['variety']==variety][prop].sub(self.mean()[variety][prop]).pow(2).mean()\n",
    "        return std\n",
    "    \n",
    "    def split(self,a):\n",
    "        x = self.flowers_table\n",
    "        n = len(x)\n",
    "        tabA=x[0:int(a*n)]\n",
    "        tabB=x[int(a*n):n]\n",
    "        return tabA, tabB"
   ]
  },
  {
   "cell_type": "code",
   "execution_count": 129,
   "metadata": {},
   "outputs": [
    {
     "name": "stderr",
     "output_type": "stream",
     "text": [
      "<ipython-input-128-d883fe36d355>:22: FutureWarning: Dropping of nuisance columns in DataFrame reductions (with 'numeric_only=None') is deprecated; in a future version this will raise TypeError.  Select only valid columns before calling the reduction.\n",
      "  mean[name] = self.flowers_table[self.flowers_table['variety'] == name].mean(axis=0)\n"
     ]
    },
    {
     "name": "stdout",
     "output_type": "stream",
     "text": [
      "accuracy =  97.77777777777777 %\n"
     ]
    }
   ],
   "source": [
    "Iris = ProcessingData(iris)\n",
    "\n",
    "irisTrain, irisVal = Iris.stiffle().normalize().split(0.7)\n",
    "\n",
    "types = ['Setosa','Versicolor','Virginica']\n",
    "accuracy=0;\n",
    "for i in irisVal.iloc:\n",
    "    sample = pd.DataFrame()\n",
    "    #print(i['sepal.length'].item)\n",
    "    sample = {\n",
    "        'sepal.length':i['sepal.length'],\n",
    "        'sepal.width':i['sepal.width'],\n",
    "        'petal.length':i['petal.length'],\n",
    "        'petal.width':i['petal.width']\n",
    "    }\n",
    "    \n",
    "    answear = NaiveBayes.classify(irisTrain,sample,types)\n",
    "    if(answear == i.variety):\n",
    "        accuracy+=1\n",
    "print('accuracy = ',(accuracy/len(irisVal)*100),'%')"
   ]
  },
  {
   "cell_type": "code",
   "execution_count": null,
   "metadata": {},
   "outputs": [],
   "source": []
  },
  {
   "cell_type": "code",
   "execution_count": null,
   "metadata": {},
   "outputs": [],
   "source": []
  },
  {
   "cell_type": "code",
   "execution_count": null,
   "metadata": {},
   "outputs": [],
   "source": []
  },
  {
   "cell_type": "code",
   "execution_count": null,
   "metadata": {},
   "outputs": [],
   "source": []
  },
  {
   "cell_type": "code",
   "execution_count": null,
   "metadata": {},
   "outputs": [],
   "source": []
  },
  {
   "cell_type": "code",
   "execution_count": null,
   "metadata": {},
   "outputs": [],
   "source": []
  },
  {
   "cell_type": "code",
   "execution_count": null,
   "metadata": {},
   "outputs": [],
   "source": []
  },
  {
   "cell_type": "code",
   "execution_count": null,
   "metadata": {},
   "outputs": [],
   "source": []
  },
  {
   "cell_type": "code",
   "execution_count": null,
   "metadata": {},
   "outputs": [],
   "source": []
  },
  {
   "cell_type": "code",
   "execution_count": null,
   "metadata": {},
   "outputs": [],
   "source": []
  }
 ],
 "metadata": {
  "kernelspec": {
   "display_name": "Python 3",
   "language": "python",
   "name": "python3"
  },
  "language_info": {
   "codemirror_mode": {
    "name": "ipython",
    "version": 3
   },
   "file_extension": ".py",
   "mimetype": "text/x-python",
   "name": "python",
   "nbconvert_exporter": "python",
   "pygments_lexer": "ipython3",
   "version": "3.8.10"
  }
 },
 "nbformat": 4,
 "nbformat_minor": 4
}
